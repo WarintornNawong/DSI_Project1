{
 "cells": [
  {
   "cell_type": "markdown",
   "id": "02630e73",
   "metadata": {},
   "source": [
    "### Step:1 Import & Read Section"
   ]
  },
  {
   "cell_type": "code",
   "execution_count": 1,
   "id": "3b2fb58c",
   "metadata": {},
   "outputs": [],
   "source": [
    "import pandas as pd\n",
    "import os"
   ]
  },
  {
   "cell_type": "code",
   "execution_count": 31,
   "id": "08631029",
   "metadata": {},
   "outputs": [],
   "source": [
    "main_path = r'../project_1/data'\n",
    "\n",
    "## List out all filenames\n",
    "filelist = os.listdir(main_path)\n",
    "\n",
    "## Rename by removing \".csv\" out of names.\n",
    "filename = [i.replace(\".csv\",\"\") for i in filelist]\n",
    "\n",
    "## Import all files.\n",
    "for i in range(len(filelist)):\n",
    "    path = main_path + '/' + filelist[i]\n",
    "    globals() [filename[i]] = pd.read_csv(path)"
   ]
  },
  {
   "cell_type": "code",
   "execution_count": 18,
   "id": "8ea1fce9",
   "metadata": {},
   "outputs": [
    {
     "data": {
      "text/plain": [
       "['act_2017',\n",
       " 'act_2018',\n",
       " 'act_2019',\n",
       " 'act_2019_ca',\n",
       " 'sat_2017',\n",
       " 'sat_2018',\n",
       " 'sat_2019',\n",
       " 'sat_2019_by_intended_college_major',\n",
       " 'sat_2019_ca',\n",
       " 'sat_act_by_college']"
      ]
     },
     "execution_count": 18,
     "metadata": {},
     "output_type": "execute_result"
    }
   ],
   "source": [
    "filename"
   ]
  },
  {
   "cell_type": "markdown",
   "id": "d8a6dcf6",
   "metadata": {},
   "source": [
    "#### ACT file Consolidation\n",
    "ACT-related files will eventually be two files consist of \n",
    "1. ACT_trend\n",
    "2. act_2019_ca (California ACT Score in 2019)"
   ]
  },
  {
   "cell_type": "code",
   "execution_count": 49,
   "id": "b5dc7332",
   "metadata": {},
   "outputs": [],
   "source": [
    "## Add Years Columns in ACT Score\n",
    "year = [2017,2018,2019,2019]\n",
    "for i in range(4):\n",
    "    globals() [filename[i]]['year'] = year[i]\n",
    "\n",
    "## Concatenate datafrane of ACT score.    \n",
    "ACT_trend = pd.concat([act_2017,act_2018,act_2019])"
   ]
  },
  {
   "cell_type": "markdown",
   "id": "82b5ac07",
   "metadata": {},
   "source": [
    "#### SAT file Consolidation\n",
    "SAT-related files will eventually be four main files, including \n",
    "1. SAT_trend\n",
    "2. sat_2019_by_intended_college_major\n",
    "3. sat_2019_ca\n",
    "4. sat_act_by_college"
   ]
  },
  {
   "cell_type": "code",
   "execution_count": 50,
   "id": "99d0f3ff",
   "metadata": {},
   "outputs": [],
   "source": [
    "## Add Years Columns in ACT Score excluding SAT by colleges.    \n",
    "year = [2017,2018,2019,2019,2019]\n",
    "for i in range(4,len(filename)-1):\n",
    "    globals() [filename[i]]['year'] = year[i-4]\n",
    "    \n",
    "## Concatenate dataframe of SAT Score.\n",
    "SAT_trend = pd.concat([sat_2017,sat_2018,sat_2019])"
   ]
  },
  {
   "cell_type": "markdown",
   "id": "0ce5312b",
   "metadata": {},
   "source": [
    "ACT Visualization"
   ]
  },
  {
   "cell_type": "code",
   "execution_count": 41,
   "id": "68895ff7",
   "metadata": {},
   "outputs": [
    {
     "name": "stdout",
     "output_type": "stream",
     "text": [
      "act_2017\n",
      "\n",
      "      State Participation  English  Math  Reading  Science Composite  year\n",
      "0  National           60%     20.3  20.7     21.4     21.0      21.0  2017\n",
      "1   Alabama          100%     18.9  18.4     19.7     19.4      19.2  2017\n",
      "2    Alaska           65%     18.7  19.8     20.4     19.9      19.8  2017\n",
      "3   Arizona           62%     18.6  19.8     20.1     19.8      19.7  2017\n",
      "4  Arkansas          100%     18.9  19.0     19.7     19.5      19.4  2017\n",
      "\n",
      "\n",
      "\n",
      "act_2018\n",
      "\n",
      "        State Participation  Composite  year\n",
      "0     Alabama          100%       19.1  2018\n",
      "1      Alaska           33%       20.8  2018\n",
      "2     Arizona           66%       19.2  2018\n",
      "3    Arkansas          100%       19.4  2018\n",
      "4  California           27%       22.7  2018\n",
      "\n",
      "\n",
      "\n",
      "act_2019\n",
      "\n",
      "        State Participation  Composite  year\n",
      "0     Alabama          100%       18.9  2019\n",
      "1      Alaska           38%       20.1  2019\n",
      "2     Arizona           73%       19.0  2019\n",
      "3    Arkansas          100%       19.3  2019\n",
      "4  California           23%       22.6  2019\n",
      "\n",
      "\n",
      "\n",
      "act_2019_ca\n",
      "\n",
      "            CDS  CCode     CDCode      SCode RType  \\\n",
      "0  3.366993e+13   33.0  3366993.0   129882.0     S   \n",
      "1  1.964212e+13   19.0  1964212.0  1995596.0     S   \n",
      "2  1.563776e+13   15.0  1563776.0  1530377.0     S   \n",
      "3  4.369666e+13   43.0  4369666.0  4333795.0     S   \n",
      "4  1.964733e+13   19.0  1964733.0  1935121.0     S   \n",
      "\n",
      "                             SName                  DName        CName  \\\n",
      "0  21st Century Learning Institute       Beaumont Unified    Riverside   \n",
      "1      ABC Secondary (Alternative)            ABC Unified  Los Angeles   \n",
      "2      Abraham Lincoln Alternative  Southern Kern Unified         Kern   \n",
      "3             Abraham Lincoln High       San Jose Unified  Santa Clara   \n",
      "4      Abraham Lincoln Senior High    Los Angeles Unified  Los Angeles   \n",
      "\n",
      "   Enroll12  NumTstTakr AvgScrRead AvgScrEng AvgScrMath AvgScrSci NumGE21  \\\n",
      "0      18.0         0.0        NaN       NaN        NaN       NaN     NaN   \n",
      "1      58.0         0.0        NaN       NaN        NaN       NaN     NaN   \n",
      "2      18.0         0.0        NaN       NaN        NaN       NaN     NaN   \n",
      "3     463.0        53.0         23        22         22        23      34   \n",
      "4     226.0        19.0         21        20         23        22      11   \n",
      "\n",
      "  PctGE21     Year  Unnamed: 17  year  \n",
      "0     NaN  2018-19          NaN  2019  \n",
      "1     NaN  2018-19          NaN  2019  \n",
      "2     NaN  2018-19          NaN  2019  \n",
      "3   64.15  2018-19          NaN  2019  \n",
      "4   57.89  2018-19          NaN  2019  \n",
      "\n",
      "\n",
      "\n"
     ]
    }
   ],
   "source": [
    "for i in range(4):\n",
    "    print(filename[i],end=\"\\n\\n\")\n",
    "    print(globals() [filename[i]].head(),end=\"\\n\\n\\n\\n\")"
   ]
  },
  {
   "cell_type": "markdown",
   "id": "333e6cd3",
   "metadata": {},
   "source": [
    "SAT Visualization"
   ]
  },
  {
   "cell_type": "code",
   "execution_count": 42,
   "id": "8ed6dca3",
   "metadata": {
    "scrolled": false
   },
   "outputs": [
    {
     "name": "stdout",
     "output_type": "stream",
     "text": [
      "sat_2017\n",
      "\n",
      "        State Participation  Evidence-Based Reading and Writing  Math  Total  \\\n",
      "0     Alabama            5%                                 593   572   1165   \n",
      "1      Alaska           38%                                 547   533   1080   \n",
      "2     Arizona           30%                                 563   553   1116   \n",
      "3    Arkansas            3%                                 614   594   1208   \n",
      "4  California           53%                                 531   524   1055   \n",
      "\n",
      "   year  \n",
      "0  2017  \n",
      "1  2017  \n",
      "2  2017  \n",
      "3  2017  \n",
      "4  2017  \n",
      "\n",
      "\n",
      "\n",
      "sat_2018\n",
      "\n",
      "        State Participation  Evidence-Based Reading and Writing  Math  Total  \\\n",
      "0     Alabama            6%                                 595   571   1166   \n",
      "1      Alaska           43%                                 562   544   1106   \n",
      "2     Arizona           29%                                 577   572   1149   \n",
      "3    Arkansas            5%                                 592   576   1169   \n",
      "4  California           60%                                 540   536   1076   \n",
      "\n",
      "   year  \n",
      "0  2018  \n",
      "1  2018  \n",
      "2  2018  \n",
      "3  2018  \n",
      "4  2018  \n",
      "\n",
      "\n",
      "\n",
      "sat_2019\n",
      "\n",
      "        State Participation Rate  EBRW  Math  Total  year\n",
      "0     Alabama                 7%   583   560   1143  2019\n",
      "1      Alaska                41%   556   541   1097  2019\n",
      "2     Arizona                31%   569   565   1134  2019\n",
      "3    Arkansas                 6%   582   559   1141  2019\n",
      "4  California                63%   534   531   1065  2019\n",
      "\n",
      "\n",
      "\n",
      "sat_2019_by_intended_college_major\n",
      "\n",
      "                                IntendedCollegeMajor TestTakers Percent  \\\n",
      "0  Agriculture, AgricultureOperations, and Relate...     24,913      1%   \n",
      "1                  Architecture and Related Services     28,988      2%   \n",
      "2         Area, Ethnic, Cultural, and Gender Studies      2,629      0%   \n",
      "3                 Biological and Biomedical Sciences    155,834      8%   \n",
      "4  Business, Management, Marketing, and Related S...    221,523     12%   \n",
      "\n",
      "   Total  ReadingWriting  Math  year  \n",
      "0    977             496   481  2019  \n",
      "1   1047             520   527  2019  \n",
      "2   1040             536   504  2019  \n",
      "3   1139             572   566  2019  \n",
      "4   1072             534   537  2019  \n",
      "\n",
      "\n",
      "\n",
      "sat_2019_ca\n",
      "\n",
      "            CDS  CCode     CDCode      SCode RType                    SName  \\\n",
      "0  6.615981e+12    6.0   661598.0   630046.0     S  Colusa Alternative Home   \n",
      "1  6.616061e+12    6.0   661606.0   634758.0     S          Maxwell Sr High   \n",
      "2  1.964733e+13   19.0  1964733.0  1930924.0     S      Belmont Senior High   \n",
      "3  1.964733e+13   19.0  1964733.0  1931476.0     S  Canoga Park Senior High   \n",
      "4  1.964733e+13   19.0  1964733.0  1931856.0     S     Whitman Continuation   \n",
      "\n",
      "                 DName        CName  Enroll12  NumTSTTakr12  ...  \\\n",
      "0       Colusa Unified       Colusa      18.0           0.0  ...   \n",
      "1      Maxwell Unified       Colusa      29.0          10.0  ...   \n",
      "2  Los Angeles Unified  Los Angeles     206.0         102.0  ...   \n",
      "3  Los Angeles Unified  Los Angeles     227.0         113.0  ...   \n",
      "4  Los Angeles Unified  Los Angeles      18.0          14.0  ...   \n",
      "\n",
      "  PctERWBenchmark11 NumMathBenchmark11 PctMathBenchmark11  \\\n",
      "0               NaN                NaN                NaN   \n",
      "1                 *                  *                  *   \n",
      "2             24.14                 12               6.90   \n",
      "3             35.27                 37              13.45   \n",
      "4                 *                  *                  *   \n",
      "\n",
      "  TotNumBothBenchmark12  PctBothBenchmark12  TotNumBothBenchmark11  \\\n",
      "0                   NaN                 NaN                    NaN   \n",
      "1                     *                   *                      *   \n",
      "2                    14               13.73                     11   \n",
      "3                    18               15.93                     35   \n",
      "4                     *                   *                      *   \n",
      "\n",
      "  PctBothBenchmark11     Year Unnamed: 25  year  \n",
      "0                NaN  2018-19         NaN  2019  \n",
      "1                  *  2018-19         NaN  2019  \n",
      "2               6.32  2018-19         NaN  2019  \n",
      "3              12.73  2018-19         NaN  2019  \n",
      "4                  *  2018-19         NaN  2019  \n",
      "\n",
      "[5 rows x 27 columns]\n",
      "\n",
      "\n",
      "\n",
      "sat_act_by_college\n",
      "\n",
      "                 School Test Optional? Applies to Class Year(s)  \\\n",
      "0   Stanford University            Yes                     2021   \n",
      "1       Harvard College            Yes                     2021   \n",
      "2  Princeton University            Yes                     2021   \n",
      "3   Columbia University            Yes                     2021   \n",
      "4       Yale University            Yes                     2021   \n",
      "\n",
      "                                      Policy Details  Number of Applicants  \\\n",
      "0  Stanford has adopted a one-year test optional ...                 47452   \n",
      "1  Harvard has adopted a one-year test optional p...                 42749   \n",
      "2  Princeton has adopted a one-year test optional...                 35370   \n",
      "3  Columbia has adopted a one-year test optional ...                 40203   \n",
      "4  Yale has adopted a one-year test optional poli...                 36844   \n",
      "\n",
      "  Accept Rate SAT Total 25th-75th Percentile ACT Total 25th-75th Percentile  \n",
      "0        4.3%                      1440-1570                          32-35  \n",
      "1        4.7%                      1460-1580                          33-35  \n",
      "2        5.5%                      1440-1570                          32-35  \n",
      "3        5.5%                      1450-1560                          33-35  \n",
      "4        6.1%                      1460-1570                          33-35  \n",
      "\n",
      "\n",
      "\n"
     ]
    }
   ],
   "source": [
    "for i in range(4,len(filename)):\n",
    "    print(filename[i],end=\"\\n\\n\")\n",
    "    print(globals() [filename[i]].head(),end=\"\\n\\n\\n\\n\")"
   ]
  }
 ],
 "metadata": {
  "kernelspec": {
   "display_name": "Python 3 (ipykernel)",
   "language": "python",
   "name": "python3"
  },
  "language_info": {
   "codemirror_mode": {
    "name": "ipython",
    "version": 3
   },
   "file_extension": ".py",
   "mimetype": "text/x-python",
   "name": "python",
   "nbconvert_exporter": "python",
   "pygments_lexer": "ipython3",
   "version": "3.9.7"
  }
 },
 "nbformat": 4,
 "nbformat_minor": 5
}
